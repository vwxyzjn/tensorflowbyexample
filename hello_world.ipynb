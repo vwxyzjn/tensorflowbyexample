{
 "cells": [
  {
   "cell_type": "code",
   "execution_count": 5,
   "metadata": {},
   "outputs": [
    {
     "name": "stdout",
     "output_type": "stream",
     "text": [
      "hello world 20.25\n"
     ]
    }
   ],
   "source": [
    "import tensorflow as tf\n",
    "# Use eager execution to embrace the upcoming tensorflow 2.0.\n",
    "tf.enable_eager_execution()\n",
    "\n",
    "x = tf.constant(4.5)\n",
    "m = tf.multiply(x, x)\n",
    "print(\"hello world {}\".format(m))\n"
   ]
  }
 ],
 "metadata": {
  "kernelspec": {
   "display_name": "Python 3",
   "language": "python",
   "name": "python3"
  },
  "language_info": {
   "codemirror_mode": {
    "name": "ipython",
    "version": 3
   },
   "file_extension": ".py",
   "mimetype": "text/x-python",
   "name": "python",
   "nbconvert_exporter": "python",
   "pygments_lexer": "ipython3",
   "version": "3.6.5"
  }
 },
 "nbformat": 4,
 "nbformat_minor": 2
}
