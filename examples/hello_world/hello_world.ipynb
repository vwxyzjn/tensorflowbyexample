{
 "cells": [
  {
   "cell_type": "code",
   "execution_count": null,
   "metadata": {},
   "outputs": [
    {
     "name": "stdout",
     "output_type": "stream",
     "text": [
      "hello world 20.25"
     ]
    }
   ],
   "source": [
    "import tensorflow as tf\n",
    "# Use eager execution to embrace the upcoming tensorflow 2.0.\n",
    "tf.enable_eager_execution()\n",
    "\n",
    "x = tf.constant(4.5)\n",
    "m = tf.multiply(x, x)\n",
    "print(\"hello world {}\".format(m))\n"
   ]
  }
 ],
 "metadata": {},
 "nbformat": 4,
 "nbformat_minor": 2
}
