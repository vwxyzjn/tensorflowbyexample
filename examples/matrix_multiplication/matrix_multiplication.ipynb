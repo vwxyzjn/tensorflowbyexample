{
 "cells": [
  {
   "cell_type": "code",
   "execution_count": null,
   "metadata": {},
   "outputs": [
    {
     "name": "stdout",
     "output_type": "stream",
     "text": [
      "hello world 9\n",
      "xixi"
     ]
    }
   ],
   "source": [
    "import tensorflow as tf\n",
    "# Use eager execution to embrace the upcoming tensorflow 2.0.\n",
    "tf.enable_eager_execution()\n",
    "\n",
    "x = tf.constant(3)\n",
    "m = tf.multiply(x, x)\n",
    "print(\"hello world {}\".format(m))\n"
   ]
  }
 ],
 "metadata": {},
 "nbformat": 4,
 "nbformat_minor": 2
}
