{
 "cells": [
  {
   "cell_type": "code",
   "execution_count": null,
   "metadata": {},
   "outputs": [
    {
     "name": "stdout",
     "output_type": "stream",
     "text": [
      "hello world 9\n"
     ]
    }
   ],
   "source": [
    "import tensorflow as tf\n",
    "# Taken from https://www.tensorflow.org/guide/eager\n",
    "# Eager execution works nicely with NumPy. NumPy operations accept tf.Tensor arguments. \n",
    "# TensorFlow math operations convert Python objects and NumPy arrays to tf.Tensor objects. \n",
    "# The tf.Tensor.numpy method returns the object's value as a NumPy ndarray.\n",
    "tf.enable_eager_execution()\n",
    "a = tf.constant([\n",
    "    [1, 2],\n",
    "    [3, 4]]\n",
    ")\n",
    "print(a)\n",
    "\n",
    "# Broadcasting support\n",
    "b = tf.add(a, 1)\n",
    "print(b)\n",
    "\n",
    "# Operator overloading is supported\n",
    "print(a * b)\n",
    "\n",
    "# Use NumPy values\n",
    "import numpy as np\n",
    "\n",
    "c = np.multiply(a, b)\n",
    "print(c)\n"
   ]
  }
 ],
 "metadata": {},
 "nbformat": 4,
 "nbformat_minor": 2
}
